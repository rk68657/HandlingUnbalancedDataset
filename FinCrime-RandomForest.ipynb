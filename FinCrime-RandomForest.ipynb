{
 "cells": [
  {
   "cell_type": "code",
   "execution_count": 2,
   "metadata": {},
   "outputs": [],
   "source": [
    "# importing libraries\n",
    "import numpy as np\n",
    "import pandas as pd\n",
    "import matplotlib.pyplot as plt\n",
    "import seaborn as sns\n",
    "from sklearn.model_selection import train_test_split\n",
    "from catboost import CatBoostClassifier\n",
    "from sklearn.metrics import f1_score, precision_score, recall_score, precision_recall_curve\n",
    "from matplotlib import pyplot\n",
    "import pickle"
   ]
  },
  {
   "cell_type": "code",
   "execution_count": 3,
   "metadata": {},
   "outputs": [],
   "source": [
    "# reading transaction dataset\n",
    "data= pd.read_csv('data/transactions.csv')"
   ]
  },
  {
   "cell_type": "code",
   "execution_count": 4,
   "metadata": {},
   "outputs": [
    {
     "data": {
      "text/plain": [
       "(1068361,\n",
       " 200250,\n",
       " (1068361, 7),\n",
       " '2019-05-18 00:50:58.493',\n",
       " '2019-04-03 00:09:37.571',\n",
       " 4,\n",
       " 6)"
      ]
     },
     "execution_count": 4,
     "metadata": {},
     "output_type": "execute_result"
    }
   ],
   "source": [
    "# exploratory data anlysis of transaction data file\n",
    "# total unique transactions, users, start and end date\n",
    "data.ID.nunique(), data.USER_ID.nunique(), data.shape, data.CREATED_DATE.max(), data.CREATED_DATE.min(),data.STATE.nunique(),data.TYPE.nunique()"
   ]
  },
  {
   "cell_type": "code",
   "execution_count": 5,
   "metadata": {},
   "outputs": [
    {
     "name": "stdout",
     "output_type": "stream",
     "text": [
      "         AMOUNT_GBP\n",
      "count  1.068361e+06\n",
      "mean   3.408766e+01\n",
      "std    2.350485e+02\n",
      "min    1.000000e-02\n",
      "25%    1.000000e-02\n",
      "50%    8.370000e+00\n",
      "75%    1.702000e+01\n",
      "max    8.325073e+04\n",
      "                                     ID                               USER_ID  \\\n",
      "0  f659b44e-cfdf-48de-bcf3-06f47ef26e9f  fd7f3ff6-0ed6-4a85-a7b5-2f205e0ef72f   \n",
      "1  2ae18b8b-b9bc-4c44-96b1-d43efd8d371d  3979518e-95f7-4b6c-81ae-2f828727d81a   \n",
      "2  0162d352-dd18-40ab-b3ee-cf6584c9a238  75aa5388-9c89-4f72-bc54-67501519585b   \n",
      "3  a4e176f7-49ca-462b-9164-2f0645622148  45598164-6362-4ee4-bd70-ffee3bd1d707   \n",
      "4  f6f9135f-fb2b-4a58-bb65-dd9713306a71  5a501ce5-f03c-410d-aabc-434b2cad741d   \n",
      "\n",
      "              CREATED_DATE          TYPE      STATE  AMOUNT_GBP CURRENCY  \n",
      "0   2019-04-20 18:04:03.93  CARD_PAYMENT  COMPLETED       13.12      PLN  \n",
      "1  2019-05-03 13:09:57.625         TOPUP   REVERTED        0.01      RON  \n",
      "2  2019-04-25 15:37:46.837         TOPUP  COMPLETED       10.00      GBP  \n",
      "3  2019-04-28 13:52:15.256      EXCHANGE  COMPLETED        0.11      RON  \n",
      "4  2019-05-13 16:02:12.081  CARD_PAYMENT  COMPLETED        9.79      EUR  \n"
     ]
    }
   ],
   "source": [
    "# having a look and data and identify missing values\n",
    "print(data.describe())\n",
    "print(data.head())"
   ]
  },
  {
   "cell_type": "code",
   "execution_count": 6,
   "metadata": {},
   "outputs": [],
   "source": [
    "# load other data files \n",
    "fraudester_data= pd.read_csv('data/fraudsters.csv')\n",
    "user_data= pd.read_csv('data/users.csv')\n",
    "user_data.rename(columns= {'ID' : 'USER_ID'}, inplace=True)"
   ]
  },
  {
   "cell_type": "code",
   "execution_count": 7,
   "metadata": {},
   "outputs": [
    {
     "name": "stdout",
     "output_type": "stream",
     "text": [
      "                                USER_ID\n",
      "0  2c831c76-2d62-41ce-a240-e12f505d389a\n",
      "1  ce2a1146-831e-49a7-aa5f-a3045a2892af\n",
      "2  447abe11-f89a-4819-bea2-e7978b1cf560\n",
      "3  3a186446-c2fb-474b-a8d8-db362643b3d2\n",
      "4  73fa6100-f6f0-4e22-b247-714f4743c125 \n",
      "\n",
      "\n",
      "\n",
      "\n",
      "                                USER_ID             CREATED_DATE COUNTRY  \\\n",
      "0  46f44852-aaa5-4634-aadd-8cc4eefef3c8  2019-04-22 18:30:30.735      BG   \n",
      "1  f17dd8af-2edb-4415-a950-d90a1b5e3e5b   2019-04-15 02:44:24.94      IE   \n",
      "2  55e6fcef-f573-4c54-8b27-537adc417e19   2019-04-03 16:10:44.53      PL   \n",
      "3  dc03019c-9cf1-4081-a70a-6922a44fe393  2019-04-13 14:16:11.928      FR   \n",
      "4  bcd967e5-c273-45a7-a7f5-e7c9e3b19b7e  2019-04-03 15:46:43.997      IE   \n",
      "\n",
      "   BIRTH_DATE  \n",
      "0  1984-10-22  \n",
      "1  1984-11-04  \n",
      "2  1977-09-08  \n",
      "3  1992-09-06  \n",
      "4  1993-10-22  \n"
     ]
    }
   ],
   "source": [
    "# having a look at users and fraudester datasets. \n",
    "print(fraudester_data.head(), '\\n\\n\\n\\n')\n",
    "print(user_data.head())\n",
    "\n",
    "# need to create a new column to merge all users with fraud status\n",
    "fraudester_data['frauderster']= 1"
   ]
  },
  {
   "cell_type": "code",
   "execution_count": 8,
   "metadata": {},
   "outputs": [
    {
     "name": "stdout",
     "output_type": "stream",
     "text": [
      "                                USER_ID             CREATED_DATE COUNTRY  \\\n",
      "0  46f44852-aaa5-4634-aadd-8cc4eefef3c8  2019-04-22 18:30:30.735      BG   \n",
      "1  f17dd8af-2edb-4415-a950-d90a1b5e3e5b   2019-04-15 02:44:24.94      IE   \n",
      "2  55e6fcef-f573-4c54-8b27-537adc417e19   2019-04-03 16:10:44.53      PL   \n",
      "3  dc03019c-9cf1-4081-a70a-6922a44fe393  2019-04-13 14:16:11.928      FR   \n",
      "4  bcd967e5-c273-45a7-a7f5-e7c9e3b19b7e  2019-04-03 15:46:43.997      IE   \n",
      "\n",
      "   BIRTH_DATE  frauderster  \n",
      "0  1984-10-22          NaN  \n",
      "1  1984-11-04          NaN  \n",
      "2  1977-09-08          NaN  \n",
      "3  1992-09-06          NaN  \n",
      "4  1993-10-22          NaN  \n",
      "757\n",
      "200250\n",
      "757\n"
     ]
    }
   ],
   "source": [
    "# crate a merged dataset\n",
    "user_fraudester_data= pd.merge(user_data, fraudester_data, on='USER_ID', how= 'left')\n",
    "print(user_fraudester_data.head())\n",
    "\n",
    "# checking if all fraudsters are present in user data\n",
    "print(len(user_fraudester_data[user_fraudester_data['frauderster'] == 1]))\n",
    "print(len(user_data))\n",
    "print(len(fraudester_data))"
   ]
  },
  {
   "cell_type": "code",
   "execution_count": 9,
   "metadata": {},
   "outputs": [
    {
     "data": {
      "text/plain": [
       "(array([2.0075e+04, 2.2491e+04, 1.9476e+04, 3.7590e+03, 8.8900e+03,\n",
       "        3.1290e+03, 5.0980e+04, 1.7104e+04, 1.9208e+04, 9.7700e+02,\n",
       "        6.9560e+03, 1.1700e+03, 2.8890e+03, 1.1440e+03, 2.0760e+03,\n",
       "        1.1970e+03, 6.3870e+03, 6.1900e+02, 6.9000e+01, 2.1980e+03,\n",
       "        1.1760e+03, 2.0100e+02, 2.1860e+03, 5.7000e+01, 2.7260e+03,\n",
       "        3.7200e+02, 5.1100e+02, 4.3400e+02, 5.7700e+02, 2.0200e+02,\n",
       "        1.3900e+02, 1.1000e+02, 1.9100e+02, 2.1200e+02, 4.4000e+01,\n",
       "        2.0000e+01, 1.1200e+02, 1.1900e+02, 3.5000e+01, 6.0000e+00,\n",
       "        2.0000e+00, 6.0000e+00, 3.0000e+00, 2.0000e+00, 1.0000e+00,\n",
       "        2.0000e+00, 2.0000e+00, 3.0000e+00, 2.0000e+00, 3.0000e+00]),\n",
       " array([ 0.  ,  1.12,  2.24,  3.36,  4.48,  5.6 ,  6.72,  7.84,  8.96,\n",
       "        10.08, 11.2 , 12.32, 13.44, 14.56, 15.68, 16.8 , 17.92, 19.04,\n",
       "        20.16, 21.28, 22.4 , 23.52, 24.64, 25.76, 26.88, 28.  , 29.12,\n",
       "        30.24, 31.36, 32.48, 33.6 , 34.72, 35.84, 36.96, 38.08, 39.2 ,\n",
       "        40.32, 41.44, 42.56, 43.68, 44.8 , 45.92, 47.04, 48.16, 49.28,\n",
       "        50.4 , 51.52, 52.64, 53.76, 54.88, 56.  ]),\n",
       " <a list of 50 Patch objects>)"
      ]
     },
     "execution_count": 9,
     "metadata": {},
     "output_type": "execute_result"
    },
    {
     "data": {
      "image/png": "[encoded data removed]",
      "text/plain": [
       "<Figure size 1800x1080 with 1 Axes>"
      ]
     },
     "metadata": {
      "needs_background": "light"
     },
     "output_type": "display_data"
    }
   ],
   "source": [
    "plt.figure(figsize=(25,15))\n",
    "plt.hist(user_fraudester_data['COUNTRY'], bins = 50)"
   ]
  },
  {
   "cell_type": "code",
   "execution_count": 10,
   "metadata": {},
   "outputs": [
    {
     "name": "stdout",
     "output_type": "stream",
     "text": [
      "         count\n",
      "COUNTRY       \n",
      "GB       50980\n",
      "PL       22491\n",
      "FR       19476\n",
      "IE       17923\n",
      "RO       17104\n",
      "         count\n",
      "COUNTRY       \n",
      "GB         504\n",
      "FR         143\n",
      "IT          36\n",
      "IE          13\n",
      "PT          11\n"
     ]
    },
    {
     "data": {
      "text/html": [
       "<div>\n",
       "<style scoped>\n",
       "    .dataframe tbody tr th:only-of-type {\n",
       "        vertical-align: middle;\n",
       "    }\n",
       "\n",
       "    .dataframe tbody tr th {\n",
       "        vertical-align: top;\n",
       "    }\n",
       "\n",
       "    .dataframe thead th {\n",
       "        text-align: right;\n",
       "    }\n",
       "</style>\n",
       "<table border=\"1\" class=\"dataframe\">\n",
       "  <thead>\n",
       "    <tr style=\"text-align: right;\">\n",
       "      <th></th>\n",
       "      <th>con</th>\n",
       "      <th>fraud_rate</th>\n",
       "    </tr>\n",
       "  </thead>\n",
       "  <tbody>\n",
       "    <tr>\n",
       "      <th>0</th>\n",
       "      <td>GB</td>\n",
       "      <td>0.988623</td>\n",
       "    </tr>\n",
       "    <tr>\n",
       "      <th>1</th>\n",
       "      <td>PL</td>\n",
       "      <td>0.022231</td>\n",
       "    </tr>\n",
       "    <tr>\n",
       "      <th>2</th>\n",
       "      <td>FR</td>\n",
       "      <td>0.734237</td>\n",
       "    </tr>\n",
       "    <tr>\n",
       "      <th>3</th>\n",
       "      <td>IE</td>\n",
       "      <td>0.072533</td>\n",
       "    </tr>\n",
       "    <tr>\n",
       "      <th>4</th>\n",
       "      <td>RO</td>\n",
       "      <td>0.035080</td>\n",
       "    </tr>\n",
       "    <tr>\n",
       "      <th>5</th>\n",
       "      <td>ES</td>\n",
       "      <td>0.042528</td>\n",
       "    </tr>\n",
       "    <tr>\n",
       "      <th>6</th>\n",
       "      <td>PT</td>\n",
       "      <td>0.123735</td>\n",
       "    </tr>\n",
       "    <tr>\n",
       "      <th>7</th>\n",
       "      <td>IT</td>\n",
       "      <td>0.913938</td>\n",
       "    </tr>\n",
       "    <tr>\n",
       "      <th>8</th>\n",
       "      <td>LT</td>\n",
       "      <td>0.031959</td>\n",
       "    </tr>\n",
       "    <tr>\n",
       "      <th>9</th>\n",
       "      <td>DE</td>\n",
       "      <td>0.242298</td>\n",
       "    </tr>\n",
       "  </tbody>\n",
       "</table>\n",
       "</div>"
      ],
      "text/plain": [
       "  con  fraud_rate\n",
       "0  GB    0.988623\n",
       "1  PL    0.022231\n",
       "2  FR    0.734237\n",
       "3  IE    0.072533\n",
       "4  RO    0.035080\n",
       "5  ES    0.042528\n",
       "6  PT    0.123735\n",
       "7  IT    0.913938\n",
       "8  LT    0.031959\n",
       "9  DE    0.242298"
      ]
     },
     "execution_count": 10,
     "metadata": {},
     "output_type": "execute_result"
    }
   ],
   "source": [
    "# create a new feature which is fraud rate of country of transaction\n",
    "\n",
    "# get total transactions\n",
    "user_fraudester_data['count']= 1\n",
    "grouped_fraudester= user_fraudester_data.groupby(['COUNTRY']).agg({'count':np.sum})\n",
    "country =grouped_fraudester.sort_values( by='count', ascending=False)\n",
    "print(country.head())\n",
    "\n",
    "# getting fraud transaction\n",
    "fraud_country =user_fraudester_data[user_fraudester_data['frauderster']== 1].groupby(['COUNTRY']).agg({'count':np.sum})\n",
    "f_country =fraud_country.sort_values( by='count', ascending=False)\n",
    "print(f_country.head())\n",
    "\n",
    "# getting fraud rate as number of fraud transactions* 100/total transactions\n",
    "country['con']= country.index\n",
    "f_country['con']= f_country.index\n",
    "fraud_rate_data= pd.merge(country, f_country, on ='con')\n",
    "fraud_rate_data['fraud_rate']= fraud_rate_data['count_y']*100/fraud_rate_data.count_x\n",
    "Fraud_rate= fraud_rate_data.drop(['count_x', 'count_y'], axis= 1)\n",
    "Fraud_rate.head(10)"
   ]
  },
  {
   "cell_type": "code",
   "execution_count": 11,
   "metadata": {},
   "outputs": [
    {
     "data": {
      "text/html": [
       "<div>\n",
       "<style scoped>\n",
       "    .dataframe tbody tr th:only-of-type {\n",
       "        vertical-align: middle;\n",
       "    }\n",
       "\n",
       "    .dataframe tbody tr th {\n",
       "        vertical-align: top;\n",
       "    }\n",
       "\n",
       "    .dataframe thead th {\n",
       "        text-align: right;\n",
       "    }\n",
       "</style>\n",
       "<table border=\"1\" class=\"dataframe\">\n",
       "  <thead>\n",
       "    <tr style=\"text-align: right;\">\n",
       "      <th></th>\n",
       "      <th>ID</th>\n",
       "      <th>USER_ID</th>\n",
       "      <th>CREATED_DATE_x</th>\n",
       "      <th>TYPE</th>\n",
       "      <th>STATE</th>\n",
       "      <th>AMOUNT_GBP</th>\n",
       "      <th>CURRENCY</th>\n",
       "      <th>CREATED_DATE_y</th>\n",
       "      <th>COUNTRY</th>\n",
       "      <th>BIRTH_DATE</th>\n",
       "      <th>frauderster</th>\n",
       "      <th>count</th>\n",
       "    </tr>\n",
       "  </thead>\n",
       "  <tbody>\n",
       "    <tr>\n",
       "      <th>0</th>\n",
       "      <td>f659b44e-cfdf-48de-bcf3-06f47ef26e9f</td>\n",
       "      <td>fd7f3ff6-0ed6-4a85-a7b5-2f205e0ef72f</td>\n",
       "      <td>2019-04-20 18:04:03.93</td>\n",
       "      <td>CARD_PAYMENT</td>\n",
       "      <td>COMPLETED</td>\n",
       "      <td>13.12</td>\n",
       "      <td>PLN</td>\n",
       "      <td>2019-04-18 10:59:26.974</td>\n",
       "      <td>PL</td>\n",
       "      <td>1959-04-08</td>\n",
       "      <td>NaN</td>\n",
       "      <td>1</td>\n",
       "    </tr>\n",
       "    <tr>\n",
       "      <th>1</th>\n",
       "      <td>2ae18b8b-b9bc-4c44-96b1-d43efd8d371d</td>\n",
       "      <td>3979518e-95f7-4b6c-81ae-2f828727d81a</td>\n",
       "      <td>2019-05-03 13:09:57.625</td>\n",
       "      <td>TOPUP</td>\n",
       "      <td>REVERTED</td>\n",
       "      <td>0.01</td>\n",
       "      <td>RON</td>\n",
       "      <td>2019-05-03 13:03:46.883</td>\n",
       "      <td>RO</td>\n",
       "      <td>1993-08-12</td>\n",
       "      <td>NaN</td>\n",
       "      <td>1</td>\n",
       "    </tr>\n",
       "  </tbody>\n",
       "</table>\n",
       "</div>"
      ],
      "text/plain": [
       "                                     ID                               USER_ID  \\\n",
       "0  f659b44e-cfdf-48de-bcf3-06f47ef26e9f  fd7f3ff6-0ed6-4a85-a7b5-2f205e0ef72f   \n",
       "1  2ae18b8b-b9bc-4c44-96b1-d43efd8d371d  3979518e-95f7-4b6c-81ae-2f828727d81a   \n",
       "\n",
       "            CREATED_DATE_x          TYPE      STATE  AMOUNT_GBP CURRENCY  \\\n",
       "0   2019-04-20 18:04:03.93  CARD_PAYMENT  COMPLETED       13.12      PLN   \n",
       "1  2019-05-03 13:09:57.625         TOPUP   REVERTED        0.01      RON   \n",
       "\n",
       "            CREATED_DATE_y COUNTRY  BIRTH_DATE  frauderster  count  \n",
       "0  2019-04-18 10:59:26.974      PL  1959-04-08          NaN      1  \n",
       "1  2019-05-03 13:03:46.883      RO  1993-08-12          NaN      1  "
      ]
     },
     "execution_count": 11,
     "metadata": {},
     "output_type": "execute_result"
    }
   ],
   "source": [
    "# creating a dataset that merges all 3 data files\n",
    "all_transaction_data=pd.merge(data, user_fraudester_data, on= 'USER_ID', how= 'left')\n",
    "all_transaction_data.head(2)"
   ]
  },
  {
   "cell_type": "code",
   "execution_count": 12,
   "metadata": {},
   "outputs": [
    {
     "name": "stdout",
     "output_type": "stream",
     "text": [
      "                                     ID                               USER_ID  \\\n",
      "0  f659b44e-cfdf-48de-bcf3-06f47ef26e9f  fd7f3ff6-0ed6-4a85-a7b5-2f205e0ef72f   \n",
      "1  2ae18b8b-b9bc-4c44-96b1-d43efd8d371d  3979518e-95f7-4b6c-81ae-2f828727d81a   \n",
      "2  0162d352-dd18-40ab-b3ee-cf6584c9a238  75aa5388-9c89-4f72-bc54-67501519585b   \n",
      "3  a4e176f7-49ca-462b-9164-2f0645622148  45598164-6362-4ee4-bd70-ffee3bd1d707   \n",
      "4  f6f9135f-fb2b-4a58-bb65-dd9713306a71  5a501ce5-f03c-410d-aabc-434b2cad741d   \n",
      "\n",
      "         transaction_date          TYPE      STATE  AMOUNT_GBP CURRENCY  \\\n",
      "0 2019-04-20 18:04:03.930  CARD_PAYMENT  COMPLETED       13.12      PLN   \n",
      "1 2019-05-03 13:09:57.625         TOPUP   REVERTED        0.01      RON   \n",
      "2 2019-04-25 15:37:46.837         TOPUP  COMPLETED       10.00      GBP   \n",
      "3 2019-04-28 13:52:15.256      EXCHANGE  COMPLETED        0.11      RON   \n",
      "4 2019-05-13 16:02:12.081  CARD_PAYMENT  COMPLETED        9.79      EUR   \n",
      "\n",
      "       user_creation_date COUNTRY  BIRTH_DATE  frauderster  count  time_diff  \n",
      "0 2019-04-18 10:59:26.974      PL  1959-04-08          0.0      1   2.294872  \n",
      "1 2019-05-03 13:03:46.883      RO  1993-08-12          0.0      1   0.004291  \n",
      "2 2019-04-25 15:31:00.259      GB  1988-04-21          0.0      1   0.004706  \n",
      "3 2019-04-28 13:39:18.900      GB  1997-01-13          0.0      1   0.008986  \n",
      "4 2019-05-03 10:38:55.607      GB  1999-07-22          0.0      1  10.224496  \n"
     ]
    }
   ],
   "source": [
    "# data cleaning- changing data types, renaming columns\n",
    "sum(all_transaction_data['frauderster']== 1)\n",
    "all_transaction_data.frauderster.fillna(0, inplace=True)\n",
    "all_transaction_data.CREATED_DATE_x =all_transaction_data.CREATED_DATE_x.astype(np.datetime64)\n",
    "all_transaction_data.rename(columns={\"CREATED_DATE_x\": \"transaction_date\", \"CREATED_DATE_y\": \"user_creation_date\"}, inplace=True)\n",
    "all_transaction_data.user_creation_date =all_transaction_data.user_creation_date.astype(np.datetime64)\n",
    "\n",
    "\n",
    "### creating features- difference between user creating and fraud date\n",
    "all_transaction_data['time_diff']= all_transaction_data['transaction_date']- all_transaction_data['user_creation_date']\n",
    "all_transaction_data['time_diff']= all_transaction_data['time_diff'] / pd.to_timedelta(1, unit='D')\n",
    "print(all_transaction_data.head())"
   ]
  },
  {
   "cell_type": "code",
   "execution_count": 13,
   "metadata": {},
   "outputs": [
    {
     "name": "stdout",
     "output_type": "stream",
     "text": [
      "<seaborn.axisgrid.FacetGrid object at 0x7fb04cfe1b00>\n",
      "<seaborn.axisgrid.FacetGrid object at 0x7fb04cfe1320>\n",
      "<seaborn.axisgrid.FacetGrid object at 0x7fb04ca84cc0>\n"
     ]
    },
    {
     "data": {
      "image/png": "[encoded data removed]",
      "text/plain": [
       "<Figure size 360x360 with 1 Axes>"
      ]
     },
     "metadata": {},
     "output_type": "display_data"
    },
    {
     "data": {
      "image/png": "[encoded data removed]",
      "text/plain": [
       "<Figure size 360x360 with 1 Axes>"
      ]
     },
     "metadata": {},
     "output_type": "display_data"
    },
    {
     "data": {
      "image/png": "[encoded data removed]",
      "text/plain": [
       "<Figure size 360x360 with 1 Axes>"
      ]
     },
     "metadata": {},
     "output_type": "display_data"
    }
   ],
   "source": [
    "# bi-variate analysis keeping one variable as fraud status\n",
    "sns.set()\n",
    "cols= [\"TYPE\", \"STATE\", \"time_diff\"]\n",
    "for c in cols:\n",
    "    p= sns.relplot(x=c, y=\"frauderster\", \n",
    "            data=all_transaction_data)\n",
    "    print(p)"
   ]
  },
  {
   "cell_type": "code",
   "execution_count": 14,
   "metadata": {},
   "outputs": [],
   "source": [
    "# creating new features from the transaction variable\n",
    "\n",
    "all_transaction_data['day_of_week']= all_transaction_data['transaction_date'].dt.dayofweek\n",
    "all_transaction_data['time_of_day']= all_transaction_data['transaction_date'].dt.hour\n",
    "all_transaction_data['BIRTH_DATE']= all_transaction_data['BIRTH_DATE'].astype(np.datetime64)\n",
    "all_transaction_data['age']= pd.Timestamp(2019, 12, 12, 12) - all_transaction_data['BIRTH_DATE']\n",
    "all_transaction_data['age'] = all_transaction_data['age'] / pd.to_timedelta(1, unit='D')\n",
    "\n",
    "all_transaction_data['TransYear']=all_transaction_data['transaction_date'].map(lambda x: x.year )\n",
    "all_transaction_data['TransMonth']=all_transaction_data['transaction_date'].map(lambda x: x.month )\n",
    "all_transaction_data['TransDay']=all_transaction_data['transaction_date'].map(lambda x: x.day )\n",
    "all_transaction_data['TransHour']=all_transaction_data['transaction_date'].map(lambda x: x.hour )\n"
   ]
  },
  {
   "cell_type": "code",
   "execution_count": 15,
   "metadata": {},
   "outputs": [
    {
     "data": {
      "text/html": [
       "<div>\n",
       "<style scoped>\n",
       "    .dataframe tbody tr th:only-of-type {\n",
       "        vertical-align: middle;\n",
       "    }\n",
       "\n",
       "    .dataframe tbody tr th {\n",
       "        vertical-align: top;\n",
       "    }\n",
       "\n",
       "    .dataframe thead th {\n",
       "        text-align: right;\n",
       "    }\n",
       "</style>\n",
       "<table border=\"1\" class=\"dataframe\">\n",
       "  <thead>\n",
       "    <tr style=\"text-align: right;\">\n",
       "      <th></th>\n",
       "      <th>ID</th>\n",
       "      <th>USER_ID</th>\n",
       "      <th>transaction_date</th>\n",
       "      <th>TYPE</th>\n",
       "      <th>STATE</th>\n",
       "      <th>AMOUNT_GBP</th>\n",
       "      <th>CURRENCY</th>\n",
       "      <th>user_creation_date</th>\n",
       "      <th>COUNTRY</th>\n",
       "      <th>BIRTH_DATE</th>\n",
       "      <th>frauderster</th>\n",
       "      <th>count</th>\n",
       "      <th>time_diff</th>\n",
       "      <th>day_of_week</th>\n",
       "      <th>time_of_day</th>\n",
       "      <th>age</th>\n",
       "      <th>TransYear</th>\n",
       "      <th>TransMonth</th>\n",
       "      <th>TransDay</th>\n",
       "      <th>TransHour</th>\n",
       "    </tr>\n",
       "  </thead>\n",
       "  <tbody>\n",
       "    <tr>\n",
       "      <th>0</th>\n",
       "      <td>f659b44e-cfdf-48de-bcf3-06f47ef26e9f</td>\n",
       "      <td>fd7f3ff6-0ed6-4a85-a7b5-2f205e0ef72f</td>\n",
       "      <td>2019-04-20 18:04:03.930</td>\n",
       "      <td>CARD_PAYMENT</td>\n",
       "      <td>COMPLETED</td>\n",
       "      <td>13.12</td>\n",
       "      <td>PLN</td>\n",
       "      <td>2019-04-18 10:59:26.974</td>\n",
       "      <td>PL</td>\n",
       "      <td>1959-04-08</td>\n",
       "      <td>0.0</td>\n",
       "      <td>1</td>\n",
       "      <td>2.294872</td>\n",
       "      <td>5</td>\n",
       "      <td>18</td>\n",
       "      <td>22163.5</td>\n",
       "      <td>2019</td>\n",
       "      <td>4</td>\n",
       "      <td>20</td>\n",
       "      <td>18</td>\n",
       "    </tr>\n",
       "    <tr>\n",
       "      <th>1</th>\n",
       "      <td>2ae18b8b-b9bc-4c44-96b1-d43efd8d371d</td>\n",
       "      <td>3979518e-95f7-4b6c-81ae-2f828727d81a</td>\n",
       "      <td>2019-05-03 13:09:57.625</td>\n",
       "      <td>TOPUP</td>\n",
       "      <td>REVERTED</td>\n",
       "      <td>0.01</td>\n",
       "      <td>RON</td>\n",
       "      <td>2019-05-03 13:03:46.883</td>\n",
       "      <td>RO</td>\n",
       "      <td>1993-08-12</td>\n",
       "      <td>0.0</td>\n",
       "      <td>1</td>\n",
       "      <td>0.004291</td>\n",
       "      <td>4</td>\n",
       "      <td>13</td>\n",
       "      <td>9618.5</td>\n",
       "      <td>2019</td>\n",
       "      <td>5</td>\n",
       "      <td>3</td>\n",
       "      <td>13</td>\n",
       "    </tr>\n",
       "    <tr>\n",
       "      <th>2</th>\n",
       "      <td>0162d352-dd18-40ab-b3ee-cf6584c9a238</td>\n",
       "      <td>75aa5388-9c89-4f72-bc54-67501519585b</td>\n",
       "      <td>2019-04-25 15:37:46.837</td>\n",
       "      <td>TOPUP</td>\n",
       "      <td>COMPLETED</td>\n",
       "      <td>10.00</td>\n",
       "      <td>GBP</td>\n",
       "      <td>2019-04-25 15:31:00.259</td>\n",
       "      <td>GB</td>\n",
       "      <td>1988-04-21</td>\n",
       "      <td>0.0</td>\n",
       "      <td>1</td>\n",
       "      <td>0.004706</td>\n",
       "      <td>3</td>\n",
       "      <td>15</td>\n",
       "      <td>11557.5</td>\n",
       "      <td>2019</td>\n",
       "      <td>4</td>\n",
       "      <td>25</td>\n",
       "      <td>15</td>\n",
       "    </tr>\n",
       "    <tr>\n",
       "      <th>3</th>\n",
       "      <td>a4e176f7-49ca-462b-9164-2f0645622148</td>\n",
       "      <td>45598164-6362-4ee4-bd70-ffee3bd1d707</td>\n",
       "      <td>2019-04-28 13:52:15.256</td>\n",
       "      <td>EXCHANGE</td>\n",
       "      <td>COMPLETED</td>\n",
       "      <td>0.11</td>\n",
       "      <td>RON</td>\n",
       "      <td>2019-04-28 13:39:18.900</td>\n",
       "      <td>GB</td>\n",
       "      <td>1997-01-13</td>\n",
       "      <td>0.0</td>\n",
       "      <td>1</td>\n",
       "      <td>0.008986</td>\n",
       "      <td>6</td>\n",
       "      <td>13</td>\n",
       "      <td>8368.5</td>\n",
       "      <td>2019</td>\n",
       "      <td>4</td>\n",
       "      <td>28</td>\n",
       "      <td>13</td>\n",
       "    </tr>\n",
       "    <tr>\n",
       "      <th>4</th>\n",
       "      <td>f6f9135f-fb2b-4a58-bb65-dd9713306a71</td>\n",
       "      <td>5a501ce5-f03c-410d-aabc-434b2cad741d</td>\n",
       "      <td>2019-05-13 16:02:12.081</td>\n",
       "      <td>CARD_PAYMENT</td>\n",
       "      <td>COMPLETED</td>\n",
       "      <td>9.79</td>\n",
       "      <td>EUR</td>\n",
       "      <td>2019-05-03 10:38:55.607</td>\n",
       "      <td>GB</td>\n",
       "      <td>1999-07-22</td>\n",
       "      <td>0.0</td>\n",
       "      <td>1</td>\n",
       "      <td>10.224496</td>\n",
       "      <td>0</td>\n",
       "      <td>16</td>\n",
       "      <td>7448.5</td>\n",
       "      <td>2019</td>\n",
       "      <td>5</td>\n",
       "      <td>13</td>\n",
       "      <td>16</td>\n",
       "    </tr>\n",
       "  </tbody>\n",
       "</table>\n",
       "</div>"
      ],
      "text/plain": [
       "                                     ID                               USER_ID  \\\n",
       "0  f659b44e-cfdf-48de-bcf3-06f47ef26e9f  fd7f3ff6-0ed6-4a85-a7b5-2f205e0ef72f   \n",
       "1  2ae18b8b-b9bc-4c44-96b1-d43efd8d371d  3979518e-95f7-4b6c-81ae-2f828727d81a   \n",
       "2  0162d352-dd18-40ab-b3ee-cf6584c9a238  75aa5388-9c89-4f72-bc54-67501519585b   \n",
       "3  a4e176f7-49ca-462b-9164-2f0645622148  45598164-6362-4ee4-bd70-ffee3bd1d707   \n",
       "4  f6f9135f-fb2b-4a58-bb65-dd9713306a71  5a501ce5-f03c-410d-aabc-434b2cad741d   \n",
       "\n",
       "         transaction_date          TYPE      STATE  AMOUNT_GBP CURRENCY  \\\n",
       "0 2019-04-20 18:04:03.930  CARD_PAYMENT  COMPLETED       13.12      PLN   \n",
       "1 2019-05-03 13:09:57.625         TOPUP   REVERTED        0.01      RON   \n",
       "2 2019-04-25 15:37:46.837         TOPUP  COMPLETED       10.00      GBP   \n",
       "3 2019-04-28 13:52:15.256      EXCHANGE  COMPLETED        0.11      RON   \n",
       "4 2019-05-13 16:02:12.081  CARD_PAYMENT  COMPLETED        9.79      EUR   \n",
       "\n",
       "       user_creation_date COUNTRY BIRTH_DATE  frauderster  count  time_diff  \\\n",
       "0 2019-04-18 10:59:26.974      PL 1959-04-08          0.0      1   2.294872   \n",
       "1 2019-05-03 13:03:46.883      RO 1993-08-12          0.0      1   0.004291   \n",
       "2 2019-04-25 15:31:00.259      GB 1988-04-21          0.0      1   0.004706   \n",
       "3 2019-04-28 13:39:18.900      GB 1997-01-13          0.0      1   0.008986   \n",
       "4 2019-05-03 10:38:55.607      GB 1999-07-22          0.0      1  10.224496   \n",
       "\n",
       "   day_of_week  time_of_day      age  TransYear  TransMonth  TransDay  \\\n",
       "0            5           18  22163.5       2019           4        20   \n",
       "1            4           13   9618.5       2019           5         3   \n",
       "2            3           15  11557.5       2019           4        25   \n",
       "3            6           13   8368.5       2019           4        28   \n",
       "4            0           16   7448.5       2019           5        13   \n",
       "\n",
       "   TransHour  \n",
       "0         18  \n",
       "1         13  \n",
       "2         15  \n",
       "3         13  \n",
       "4         16  "
      ]
     },
     "execution_count": 15,
     "metadata": {},
     "output_type": "execute_result"
    }
   ],
   "source": [
    "all_transaction_data.head(5)"
   ]
  },
  {
   "cell_type": "code",
   "execution_count": null,
   "metadata": {},
   "outputs": [],
   "source": []
  },
  {
   "cell_type": "code",
   "execution_count": null,
   "metadata": {},
   "outputs": [],
   "source": []
  },
  {
   "cell_type": "code",
   "execution_count": null,
   "metadata": {},
   "outputs": [],
   "source": []
  },
  {
   "cell_type": "code",
   "execution_count": null,
   "metadata": {},
   "outputs": [],
   "source": []
  },
  {
   "cell_type": "code",
   "execution_count": null,
   "metadata": {},
   "outputs": [],
   "source": []
  },
  {
   "cell_type": "code",
   "execution_count": null,
   "metadata": {},
   "outputs": [],
   "source": []
  },
  {
   "cell_type": "code",
   "execution_count": null,
   "metadata": {},
   "outputs": [],
   "source": [
    "## selcting columns required for modeling\n",
    "model_data= all_transaction_data[['TYPE', 'STATE','AMOUNT_GBP','CURRENCY','COUNTRY', 'frauderster', 'time_diff','day_of_week',\n",
    "                                'age', 'time_of_day','TransYear','TransMonth','TransDay','TransHour']]\n",
    "# creating a new variable fraud rate\n",
    "Fraud_rate= Fraud_rate.rename(columns= {'con':'COUNTRY'})\n",
    "model_data= pd.merge(model_data, Fraud_rate,on= 'COUNTRY', how= 'left')\n",
    "#model_data.head()\n",
    "\n",
    "# Categorical boolean mask\n",
    "categorical_feature_mask = model_data.dtypes==object\n",
    "# filter categorical columns using mask and turn it into a list\n",
    "categorical_cols = model_data.columns[categorical_feature_mask].tolist()\n",
    "categorical_cols=['CURRENCY', 'COUNTRY']\n",
    "\n",
    "# import labelencoder\n",
    "from sklearn.preprocessing import LabelEncoder\n",
    "# instantiate labelencoder object\n",
    "le = LabelEncoder()\n",
    "# apply le on categorical feature columns\n",
    "model_data[categorical_cols] = model_data[categorical_cols].apply(lambda col: le.fit_transform(col))\n",
    "model_data[categorical_cols].head(10)\n",
    "\n",
    "model_data= pd.get_dummies(model_data, prefix_sep='_', drop_first=True)\n",
    "model_data['frauderster']=model_data['frauderster'].astype(int)\n",
    "# X head\n",
    "model_data.head()\n",
    "\n",
    "train, test = train_test_split(model_data, test_size=0.2, random_state=0, stratify=model_data[['frauderster']])\n",
    "train.groupby('frauderster')[\"frauderster\"].count()\n",
    "\n",
    "\n",
    "yy= train['frauderster']\n",
    "xx= train[['AMOUNT_GBP', 'CURRENCY', 'COUNTRY', 'time_diff',\n",
    "       'day_of_week', 'age', 'time_of_day', 'TransYear', 'TransMonth',\n",
    "       'TransDay', 'TransHour', 'TYPE_CARD_PAYMENT',\n",
    "       'TYPE_EXCHANGE', 'TYPE_FEE', 'TYPE_TOPUP', 'TYPE_TRANSFER',\n",
    "       'STATE_DECLINED', 'STATE_FAILED', 'STATE_REVERTED']]\n",
    "\n",
    "from imblearn.over_sampling import SMOTENC\n",
    "sm = SMOTENC(categorical_features=[1,2,4,7,8,9,10,11,12,13,14,15,16,17,18],sampling_strategy=0.05,random_state=42)\n",
    "X_res, y_res = sm.fit_resample(xx, yy)\n",
    "\n",
    "X_res_smote=X_res \n",
    "y_res_smote=y_res\n",
    "\n",
    "from imblearn.under_sampling import TomekLinks\n",
    "tl = TomekLinks()\n",
    "X_res, y_res = tl.fit_resample(X_res_smote, y_res_smote)\n",
    "\n",
    "xx=X_res\n",
    "yy=y_res\n",
    "\n",
    "# checking data types of training data and splitting for test and train dataset\n",
    "print(xx.dtypes)\n",
    "xx_df= xx # keeping colimn names\n",
    "xx=np.array(xx)\n",
    "yy= np.array(yy).astype(np.int64)\n",
    "X_train, X_test, y_train, y_test= train_test_split(xx, yy, test_size=.1,shuffle=True, random_state= 42)\n",
    "\n"
   ]
  },
  {
   "cell_type": "code",
   "execution_count": 34,
   "metadata": {},
   "outputs": [
    {
     "data": {
      "text/plain": [
       "(889575, 889575)"
      ]
     },
     "execution_count": 34,
     "metadata": {},
     "output_type": "execute_result"
    }
   ],
   "source": [
    "len(XX),len(YY)"
   ]
  },
  {
   "cell_type": "code",
   "execution_count": 20,
   "metadata": {},
   "outputs": [
    {
     "name": "stdout",
     "output_type": "stream",
     "text": [
      "{'n_estimators': [200, 400, 600, 800, 1000, 1200, 1400, 1600, 1800, 2000], 'max_features': ['auto', 'sqrt'], 'max_depth': [10, 20, 30, 40, 50, 60, 70, 80, 90, 100, 110, None], 'min_samples_split': [2, 5, 10], 'min_samples_leaf': [1, 2, 4], 'bootstrap': [True, False]}\n"
     ]
    }
   ],
   "source": [
    "from sklearn.model_selection import RandomizedSearchCV\n",
    "\n",
    "# Number of trees in random forest\n",
    "n_estimators = [int(x) for x in np.linspace(start = 200, stop = 2000, num = 10)]\n",
    "# Number of features to consider at every split\n",
    "max_features = ['auto', 'sqrt']\n",
    "# Maximum number of levels in tree\n",
    "max_depth = [int(x) for x in np.linspace(10, 110, num = 11)]\n",
    "max_depth.append(None)\n",
    "# Minimum number of samples required to split a node\n",
    "min_samples_split = [2, 5, 10]\n",
    "# Minimum number of samples required at each leaf node\n",
    "min_samples_leaf = [1, 2, 4]\n",
    "# Method of selecting samples for training each tree\n",
    "bootstrap = [True, False]\n",
    "\n",
    "# Create the random grid\n",
    "random_grid = {'n_estimators': n_estimators,\n",
    "               'max_features': max_features,\n",
    "               'max_depth': max_depth,\n",
    "               'min_samples_split': min_samples_split,\n",
    "               'min_samples_leaf': min_samples_leaf,\n",
    "               'bootstrap': bootstrap}\n",
    "\n",
    "print(random_grid)"
   ]
  },
  {
   "cell_type": "code",
   "execution_count": 21,
   "metadata": {},
   "outputs": [
    {
     "data": {
      "text/plain": [
       "(889575, 889575)"
      ]
     },
     "execution_count": 21,
     "metadata": {},
     "output_type": "execute_result"
    }
   ],
   "source": [
    "len(xx),len(yy)"
   ]
  },
  {
   "cell_type": "code",
   "execution_count": 25,
   "metadata": {},
   "outputs": [
    {
     "name": "stdout",
     "output_type": "stream",
     "text": [
      "Fitting 3 folds for each of 100 candidates, totalling 300 fits\n"
     ]
    },
    {
     "name": "stderr",
     "output_type": "stream",
     "text": [
      "[Parallel(n_jobs=-1)]: Using backend LokyBackend with 16 concurrent workers.\n",
      "[Parallel(n_jobs=-1)]: Done   9 tasks      | elapsed: 32.3min\n"
     ]
    },
    {
     "ename": "KeyboardInterrupt",
     "evalue": "",
     "output_type": "error",
     "traceback": [
      "\u001b[0;31m---------------------------------------------------------------------------\u001b[0m",
      "\u001b[0;31mKeyboardInterrupt\u001b[0m                         Traceback (most recent call last)",
      "\u001b[0;32m~/.local/lib/python3.6/site-packages/joblib/parallel.py\u001b[0m in \u001b[0;36mretrieve\u001b[0;34m(self)\u001b[0m\n\u001b[1;32m    908\u001b[0m                 \u001b[0;32mif\u001b[0m \u001b[0mgetattr\u001b[0m\u001b[0;34m(\u001b[0m\u001b[0mself\u001b[0m\u001b[0;34m.\u001b[0m\u001b[0m_backend\u001b[0m\u001b[0;34m,\u001b[0m \u001b[0;34m'supports_timeout'\u001b[0m\u001b[0;34m,\u001b[0m \u001b[0;32mFalse\u001b[0m\u001b[0;34m)\u001b[0m\u001b[0;34m:\u001b[0m\u001b[0;34m\u001b[0m\u001b[0;34m\u001b[0m\u001b[0m\n\u001b[0;32m--> 909\u001b[0;31m                     \u001b[0mself\u001b[0m\u001b[0;34m.\u001b[0m\u001b[0m_output\u001b[0m\u001b[0;34m.\u001b[0m\u001b[0mextend\u001b[0m\u001b[0;34m(\u001b[0m\u001b[0mjob\u001b[0m\u001b[0;34m.\u001b[0m\u001b[0mget\u001b[0m\u001b[0;34m(\u001b[0m\u001b[0mtimeout\u001b[0m\u001b[0;34m=\u001b[0m\u001b[0mself\u001b[0m\u001b[0;34m.\u001b[0m\u001b[0mtimeout\u001b[0m\u001b[0;34m)\u001b[0m\u001b[0;34m)\u001b[0m\u001b[0;34m\u001b[0m\u001b[0;34m\u001b[0m\u001b[0m\n\u001b[0m\u001b[1;32m    910\u001b[0m                 \u001b[0;32melse\u001b[0m\u001b[0;34m:\u001b[0m\u001b[0;34m\u001b[0m\u001b[0;34m\u001b[0m\u001b[0m\n",
      "\u001b[0;32m~/.local/lib/python3.6/site-packages/joblib/_parallel_backends.py\u001b[0m in \u001b[0;36mwrap_future_result\u001b[0;34m(future, timeout)\u001b[0m\n\u001b[1;32m    561\u001b[0m         \u001b[0;32mtry\u001b[0m\u001b[0;34m:\u001b[0m\u001b[0;34m\u001b[0m\u001b[0;34m\u001b[0m\u001b[0m\n\u001b[0;32m--> 562\u001b[0;31m             \u001b[0;32mreturn\u001b[0m \u001b[0mfuture\u001b[0m\u001b[0;34m.\u001b[0m\u001b[0mresult\u001b[0m\u001b[0;34m(\u001b[0m\u001b[0mtimeout\u001b[0m\u001b[0;34m=\u001b[0m\u001b[0mtimeout\u001b[0m\u001b[0;34m)\u001b[0m\u001b[0;34m\u001b[0m\u001b[0;34m\u001b[0m\u001b[0m\n\u001b[0m\u001b[1;32m    563\u001b[0m         \u001b[0;32mexcept\u001b[0m \u001b[0mLokyTimeoutError\u001b[0m\u001b[0;34m:\u001b[0m\u001b[0;34m\u001b[0m\u001b[0;34m\u001b[0m\u001b[0m\n",
      "\u001b[0;32m/usr/lib/python3.6/concurrent/futures/_base.py\u001b[0m in \u001b[0;36mresult\u001b[0;34m(self, timeout)\u001b[0m\n\u001b[1;32m    426\u001b[0m \u001b[0;34m\u001b[0m\u001b[0m\n\u001b[0;32m--> 427\u001b[0;31m             \u001b[0mself\u001b[0m\u001b[0;34m.\u001b[0m\u001b[0m_condition\u001b[0m\u001b[0;34m.\u001b[0m\u001b[0mwait\u001b[0m\u001b[0;34m(\u001b[0m\u001b[0mtimeout\u001b[0m\u001b[0;34m)\u001b[0m\u001b[0;34m\u001b[0m\u001b[0;34m\u001b[0m\u001b[0m\n\u001b[0m\u001b[1;32m    428\u001b[0m \u001b[0;34m\u001b[0m\u001b[0m\n",
      "\u001b[0;32m/usr/lib/python3.6/threading.py\u001b[0m in \u001b[0;36mwait\u001b[0;34m(self, timeout)\u001b[0m\n\u001b[1;32m    294\u001b[0m             \u001b[0;32mif\u001b[0m \u001b[0mtimeout\u001b[0m \u001b[0;32mis\u001b[0m \u001b[0;32mNone\u001b[0m\u001b[0;34m:\u001b[0m\u001b[0;34m\u001b[0m\u001b[0;34m\u001b[0m\u001b[0m\n\u001b[0;32m--> 295\u001b[0;31m                 \u001b[0mwaiter\u001b[0m\u001b[0;34m.\u001b[0m\u001b[0macquire\u001b[0m\u001b[0;34m(\u001b[0m\u001b[0;34m)\u001b[0m\u001b[0;34m\u001b[0m\u001b[0;34m\u001b[0m\u001b[0m\n\u001b[0m\u001b[1;32m    296\u001b[0m                 \u001b[0mgotit\u001b[0m \u001b[0;34m=\u001b[0m \u001b[0;32mTrue\u001b[0m\u001b[0;34m\u001b[0m\u001b[0;34m\u001b[0m\u001b[0m\n",
      "\u001b[0;31mKeyboardInterrupt\u001b[0m: ",
      "\nDuring handling of the above exception, another exception occurred:\n",
      "\u001b[0;31mKeyboardInterrupt\u001b[0m                         Traceback (most recent call last)",
      "\u001b[0;32m<ipython-input-25-37af9bcf8568>\u001b[0m in \u001b[0;36m<module>\u001b[0;34m\u001b[0m\n\u001b[1;32m     12\u001b[0m \u001b[0mtrain_labels\u001b[0m\u001b[0;34m=\u001b[0m\u001b[0myy\u001b[0m\u001b[0;34m\u001b[0m\u001b[0;34m\u001b[0m\u001b[0m\n\u001b[1;32m     13\u001b[0m \u001b[0;31m# Fit the random search model\u001b[0m\u001b[0;34m\u001b[0m\u001b[0;34m\u001b[0m\u001b[0;34m\u001b[0m\u001b[0m\n\u001b[0;32m---> 14\u001b[0;31m \u001b[0mrf_random\u001b[0m\u001b[0;34m.\u001b[0m\u001b[0mfit\u001b[0m\u001b[0;34m(\u001b[0m\u001b[0mtrain_features\u001b[0m\u001b[0;34m,\u001b[0m \u001b[0mtrain_labels\u001b[0m\u001b[0;34m)\u001b[0m\u001b[0;34m;\u001b[0m\u001b[0;34m\u001b[0m\u001b[0;34m\u001b[0m\u001b[0m\n\u001b[0m",
      "\u001b[0;32m~/.local/lib/python3.6/site-packages/sklearn/model_selection/_search.py\u001b[0m in \u001b[0;36mfit\u001b[0;34m(self, X, y, groups, **fit_params)\u001b[0m\n\u001b[1;32m    708\u001b[0m                 \u001b[0;32mreturn\u001b[0m \u001b[0mresults\u001b[0m\u001b[0;34m\u001b[0m\u001b[0;34m\u001b[0m\u001b[0m\n\u001b[1;32m    709\u001b[0m \u001b[0;34m\u001b[0m\u001b[0m\n\u001b[0;32m--> 710\u001b[0;31m             \u001b[0mself\u001b[0m\u001b[0;34m.\u001b[0m\u001b[0m_run_search\u001b[0m\u001b[0;34m(\u001b[0m\u001b[0mevaluate_candidates\u001b[0m\u001b[0;34m)\u001b[0m\u001b[0;34m\u001b[0m\u001b[0;34m\u001b[0m\u001b[0m\n\u001b[0m\u001b[1;32m    711\u001b[0m \u001b[0;34m\u001b[0m\u001b[0m\n\u001b[1;32m    712\u001b[0m         \u001b[0;31m# For multi-metric evaluation, store the best_index_, best_params_ and\u001b[0m\u001b[0;34m\u001b[0m\u001b[0;34m\u001b[0m\u001b[0;34m\u001b[0m\u001b[0m\n",
      "\u001b[0;32m~/.local/lib/python3.6/site-packages/sklearn/model_selection/_search.py\u001b[0m in \u001b[0;36m_run_search\u001b[0;34m(self, evaluate_candidates)\u001b[0m\n\u001b[1;32m   1482\u001b[0m         evaluate_candidates(ParameterSampler(\n\u001b[1;32m   1483\u001b[0m             \u001b[0mself\u001b[0m\u001b[0;34m.\u001b[0m\u001b[0mparam_distributions\u001b[0m\u001b[0;34m,\u001b[0m \u001b[0mself\u001b[0m\u001b[0;34m.\u001b[0m\u001b[0mn_iter\u001b[0m\u001b[0;34m,\u001b[0m\u001b[0;34m\u001b[0m\u001b[0;34m\u001b[0m\u001b[0m\n\u001b[0;32m-> 1484\u001b[0;31m             random_state=self.random_state))\n\u001b[0m",
      "\u001b[0;32m~/.local/lib/python3.6/site-packages/sklearn/model_selection/_search.py\u001b[0m in \u001b[0;36mevaluate_candidates\u001b[0;34m(candidate_params)\u001b[0m\n\u001b[1;32m    687\u001b[0m                                \u001b[0;32mfor\u001b[0m \u001b[0mparameters\u001b[0m\u001b[0;34m,\u001b[0m \u001b[0;34m(\u001b[0m\u001b[0mtrain\u001b[0m\u001b[0;34m,\u001b[0m \u001b[0mtest\u001b[0m\u001b[0;34m)\u001b[0m\u001b[0;34m\u001b[0m\u001b[0;34m\u001b[0m\u001b[0m\n\u001b[1;32m    688\u001b[0m                                in product(candidate_params,\n\u001b[0;32m--> 689\u001b[0;31m                                           cv.split(X, y, groups)))\n\u001b[0m\u001b[1;32m    690\u001b[0m \u001b[0;34m\u001b[0m\u001b[0m\n\u001b[1;32m    691\u001b[0m                 \u001b[0;32mif\u001b[0m \u001b[0mlen\u001b[0m\u001b[0;34m(\u001b[0m\u001b[0mout\u001b[0m\u001b[0;34m)\u001b[0m \u001b[0;34m<\u001b[0m \u001b[0;36m1\u001b[0m\u001b[0;34m:\u001b[0m\u001b[0;34m\u001b[0m\u001b[0;34m\u001b[0m\u001b[0m\n",
      "\u001b[0;32m~/.local/lib/python3.6/site-packages/joblib/parallel.py\u001b[0m in \u001b[0;36m__call__\u001b[0;34m(self, iterable)\u001b[0m\n\u001b[1;32m   1015\u001b[0m \u001b[0;34m\u001b[0m\u001b[0m\n\u001b[1;32m   1016\u001b[0m             \u001b[0;32mwith\u001b[0m \u001b[0mself\u001b[0m\u001b[0;34m.\u001b[0m\u001b[0m_backend\u001b[0m\u001b[0;34m.\u001b[0m\u001b[0mretrieval_context\u001b[0m\u001b[0;34m(\u001b[0m\u001b[0;34m)\u001b[0m\u001b[0;34m:\u001b[0m\u001b[0;34m\u001b[0m\u001b[0;34m\u001b[0m\u001b[0m\n\u001b[0;32m-> 1017\u001b[0;31m                 \u001b[0mself\u001b[0m\u001b[0;34m.\u001b[0m\u001b[0mretrieve\u001b[0m\u001b[0;34m(\u001b[0m\u001b[0;34m)\u001b[0m\u001b[0;34m\u001b[0m\u001b[0;34m\u001b[0m\u001b[0m\n\u001b[0m\u001b[1;32m   1018\u001b[0m             \u001b[0;31m# Make sure that we get a last message telling us we are done\u001b[0m\u001b[0;34m\u001b[0m\u001b[0;34m\u001b[0m\u001b[0;34m\u001b[0m\u001b[0m\n\u001b[1;32m   1019\u001b[0m             \u001b[0melapsed_time\u001b[0m \u001b[0;34m=\u001b[0m \u001b[0mtime\u001b[0m\u001b[0;34m.\u001b[0m\u001b[0mtime\u001b[0m\u001b[0;34m(\u001b[0m\u001b[0;34m)\u001b[0m \u001b[0;34m-\u001b[0m \u001b[0mself\u001b[0m\u001b[0;34m.\u001b[0m\u001b[0m_start_time\u001b[0m\u001b[0;34m\u001b[0m\u001b[0;34m\u001b[0m\u001b[0m\n",
      "\u001b[0;32m~/.local/lib/python3.6/site-packages/joblib/parallel.py\u001b[0m in \u001b[0;36mretrieve\u001b[0;34m(self)\u001b[0m\n\u001b[1;32m    929\u001b[0m                     \u001b[0;31m# scheduling.\u001b[0m\u001b[0;34m\u001b[0m\u001b[0;34m\u001b[0m\u001b[0;34m\u001b[0m\u001b[0m\n\u001b[1;32m    930\u001b[0m                     \u001b[0mensure_ready\u001b[0m \u001b[0;34m=\u001b[0m \u001b[0mself\u001b[0m\u001b[0;34m.\u001b[0m\u001b[0m_managed_backend\u001b[0m\u001b[0;34m\u001b[0m\u001b[0;34m\u001b[0m\u001b[0m\n\u001b[0;32m--> 931\u001b[0;31m                     \u001b[0mbackend\u001b[0m\u001b[0;34m.\u001b[0m\u001b[0mabort_everything\u001b[0m\u001b[0;34m(\u001b[0m\u001b[0mensure_ready\u001b[0m\u001b[0;34m=\u001b[0m\u001b[0mensure_ready\u001b[0m\u001b[0;34m)\u001b[0m\u001b[0;34m\u001b[0m\u001b[0;34m\u001b[0m\u001b[0m\n\u001b[0m\u001b[1;32m    932\u001b[0m \u001b[0;34m\u001b[0m\u001b[0m\n\u001b[1;32m    933\u001b[0m                 \u001b[0;32mif\u001b[0m \u001b[0misinstance\u001b[0m\u001b[0;34m(\u001b[0m\u001b[0mexception\u001b[0m\u001b[0;34m,\u001b[0m \u001b[0mTransportableException\u001b[0m\u001b[0;34m)\u001b[0m\u001b[0;34m:\u001b[0m\u001b[0;34m\u001b[0m\u001b[0;34m\u001b[0m\u001b[0m\n",
      "\u001b[0;32m~/.local/lib/python3.6/site-packages/joblib/_parallel_backends.py\u001b[0m in \u001b[0;36mabort_everything\u001b[0;34m(self, ensure_ready)\u001b[0m\n\u001b[1;32m    577\u001b[0m         \"\"\"Shutdown the workers and restart a new one with the same parameters\n\u001b[1;32m    578\u001b[0m         \"\"\"\n\u001b[0;32m--> 579\u001b[0;31m         \u001b[0mself\u001b[0m\u001b[0;34m.\u001b[0m\u001b[0m_workers\u001b[0m\u001b[0;34m.\u001b[0m\u001b[0mshutdown\u001b[0m\u001b[0;34m(\u001b[0m\u001b[0mkill_workers\u001b[0m\u001b[0;34m=\u001b[0m\u001b[0;32mTrue\u001b[0m\u001b[0;34m)\u001b[0m\u001b[0;34m\u001b[0m\u001b[0;34m\u001b[0m\u001b[0m\n\u001b[0m\u001b[1;32m    580\u001b[0m         \u001b[0mdelete_folder\u001b[0m\u001b[0;34m(\u001b[0m\u001b[0mself\u001b[0m\u001b[0;34m.\u001b[0m\u001b[0m_workers\u001b[0m\u001b[0;34m.\u001b[0m\u001b[0m_temp_folder\u001b[0m\u001b[0;34m)\u001b[0m\u001b[0;34m\u001b[0m\u001b[0;34m\u001b[0m\u001b[0m\n\u001b[1;32m    581\u001b[0m         \u001b[0mself\u001b[0m\u001b[0;34m.\u001b[0m\u001b[0m_workers\u001b[0m \u001b[0;34m=\u001b[0m \u001b[0;32mNone\u001b[0m\u001b[0;34m\u001b[0m\u001b[0;34m\u001b[0m\u001b[0m\n",
      "\u001b[0;32m~/.local/lib/python3.6/site-packages/joblib/externals/loky/process_executor.py\u001b[0m in \u001b[0;36mshutdown\u001b[0;34m(self, wait, kill_workers)\u001b[0m\n\u001b[1;32m   1099\u001b[0m                     \u001b[0;32mpass\u001b[0m\u001b[0;34m\u001b[0m\u001b[0;34m\u001b[0m\u001b[0m\n\u001b[1;32m   1100\u001b[0m             \u001b[0;32mif\u001b[0m \u001b[0mwait\u001b[0m\u001b[0;34m:\u001b[0m\u001b[0;34m\u001b[0m\u001b[0;34m\u001b[0m\u001b[0m\n\u001b[0;32m-> 1101\u001b[0;31m                 \u001b[0mqmt\u001b[0m\u001b[0;34m.\u001b[0m\u001b[0mjoin\u001b[0m\u001b[0;34m(\u001b[0m\u001b[0;34m)\u001b[0m\u001b[0;34m\u001b[0m\u001b[0;34m\u001b[0m\u001b[0m\n\u001b[0m\u001b[1;32m   1102\u001b[0m \u001b[0;34m\u001b[0m\u001b[0m\n\u001b[1;32m   1103\u001b[0m         \u001b[0mcq\u001b[0m \u001b[0;34m=\u001b[0m \u001b[0mself\u001b[0m\u001b[0;34m.\u001b[0m\u001b[0m_call_queue\u001b[0m\u001b[0;34m\u001b[0m\u001b[0;34m\u001b[0m\u001b[0m\n",
      "\u001b[0;32m/usr/lib/python3.6/threading.py\u001b[0m in \u001b[0;36mjoin\u001b[0;34m(self, timeout)\u001b[0m\n\u001b[1;32m   1054\u001b[0m \u001b[0;34m\u001b[0m\u001b[0m\n\u001b[1;32m   1055\u001b[0m         \u001b[0;32mif\u001b[0m \u001b[0mtimeout\u001b[0m \u001b[0;32mis\u001b[0m \u001b[0;32mNone\u001b[0m\u001b[0;34m:\u001b[0m\u001b[0;34m\u001b[0m\u001b[0;34m\u001b[0m\u001b[0m\n\u001b[0;32m-> 1056\u001b[0;31m             \u001b[0mself\u001b[0m\u001b[0;34m.\u001b[0m\u001b[0m_wait_for_tstate_lock\u001b[0m\u001b[0;34m(\u001b[0m\u001b[0;34m)\u001b[0m\u001b[0;34m\u001b[0m\u001b[0;34m\u001b[0m\u001b[0m\n\u001b[0m\u001b[1;32m   1057\u001b[0m         \u001b[0;32melse\u001b[0m\u001b[0;34m:\u001b[0m\u001b[0;34m\u001b[0m\u001b[0;34m\u001b[0m\u001b[0m\n\u001b[1;32m   1058\u001b[0m             \u001b[0;31m# the behavior of a negative timeout isn't documented, but\u001b[0m\u001b[0;34m\u001b[0m\u001b[0;34m\u001b[0m\u001b[0;34m\u001b[0m\u001b[0m\n",
      "\u001b[0;32m/usr/lib/python3.6/threading.py\u001b[0m in \u001b[0;36m_wait_for_tstate_lock\u001b[0;34m(self, block, timeout)\u001b[0m\n\u001b[1;32m   1070\u001b[0m         \u001b[0;32mif\u001b[0m \u001b[0mlock\u001b[0m \u001b[0;32mis\u001b[0m \u001b[0;32mNone\u001b[0m\u001b[0;34m:\u001b[0m  \u001b[0;31m# already determined that the C code is done\u001b[0m\u001b[0;34m\u001b[0m\u001b[0;34m\u001b[0m\u001b[0m\n\u001b[1;32m   1071\u001b[0m             \u001b[0;32massert\u001b[0m \u001b[0mself\u001b[0m\u001b[0;34m.\u001b[0m\u001b[0m_is_stopped\u001b[0m\u001b[0;34m\u001b[0m\u001b[0;34m\u001b[0m\u001b[0m\n\u001b[0;32m-> 1072\u001b[0;31m         \u001b[0;32melif\u001b[0m \u001b[0mlock\u001b[0m\u001b[0;34m.\u001b[0m\u001b[0macquire\u001b[0m\u001b[0;34m(\u001b[0m\u001b[0mblock\u001b[0m\u001b[0;34m,\u001b[0m \u001b[0mtimeout\u001b[0m\u001b[0;34m)\u001b[0m\u001b[0;34m:\u001b[0m\u001b[0;34m\u001b[0m\u001b[0;34m\u001b[0m\u001b[0m\n\u001b[0m\u001b[1;32m   1073\u001b[0m             \u001b[0mlock\u001b[0m\u001b[0;34m.\u001b[0m\u001b[0mrelease\u001b[0m\u001b[0;34m(\u001b[0m\u001b[0;34m)\u001b[0m\u001b[0;34m\u001b[0m\u001b[0;34m\u001b[0m\u001b[0m\n\u001b[1;32m   1074\u001b[0m             \u001b[0mself\u001b[0m\u001b[0;34m.\u001b[0m\u001b[0m_stop\u001b[0m\u001b[0;34m(\u001b[0m\u001b[0;34m)\u001b[0m\u001b[0;34m\u001b[0m\u001b[0;34m\u001b[0m\u001b[0m\n",
      "\u001b[0;31mKeyboardInterrupt\u001b[0m: "
     ]
    }
   ],
   "source": [
    "from sklearn.ensemble import RandomForestClassifier\n",
    "# Use the random grid to search for best hyperparameters\n",
    "# First create the base model to tune\n",
    "rf = RandomForestClassifier(random_state = 42)\n",
    "# Random search of parameters, using 3 fold cross validation, \n",
    "# search across 100 different combinations, and use all available cores\n",
    "rf_random = RandomizedSearchCV(estimator=rf, param_distributions=random_grid,\n",
    "                              n_iter = 100, scoring='roc_auc', \n",
    "                              cv = 3, verbose=2, random_state=42, n_jobs=-1,\n",
    "                              return_train_score=True)\n",
    "train_features=xx\n",
    "train_labels=yy\n",
    "# Fit the random search model\n",
    "rf_random.fit(train_features, train_labels);"
   ]
  },
  {
   "cell_type": "code",
   "execution_count": null,
   "metadata": {},
   "outputs": [],
   "source": [
    "rf_random.best_params_"
   ]
  },
  {
   "cell_type": "code",
   "execution_count": null,
   "metadata": {},
   "outputs": [],
   "source": [
    "RandomForestModel = RandomForestClassifier(n_estimators = ,max_features = '',\n",
    "                                           max_depth =  ,\n",
    "                                           min_samples_split = ,\n",
    "                                           min_samples_leaf = ,\n",
    "                                           bootstrap = True,\n",
    "                                           random_state=42)\n",
    "RandomForestModel.fit(xx, yy)\n",
    "\n"
   ]
  }
 ],
 "metadata": {
  "kernelspec": {
   "display_name": "Python 3",
   "language": "python",
   "name": "python3"
  },
  "language_info": {
   "codemirror_mode": {
    "name": "ipython",
    "version": 3
   },
   "file_extension": ".py",
   "mimetype": "text/x-python",
   "name": "python",
   "nbconvert_exporter": "python",
   "pygments_lexer": "ipython3",
   "version": "3.6.8"
  }
 },
 "nbformat": 4,
 "nbformat_minor": 4
}
